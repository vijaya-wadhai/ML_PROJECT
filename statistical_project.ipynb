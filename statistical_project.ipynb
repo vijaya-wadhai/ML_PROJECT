{
  "cells": [
    {
      "cell_type": "markdown",
      "metadata": {
        "id": "view-in-github",
        "colab_type": "text"
      },
      "source": [
        "<a href=\"https://colab.research.google.com/github/vijaya-wadhai/ML_PROJECT/blob/main/statistical_project.ipynb\" target=\"_parent\"><img src=\"https://colab.research.google.com/assets/colab-badge.svg\" alt=\"Open In Colab\"/></a>"
      ]
    },
    {
      "cell_type": "code",
      "execution_count": null,
      "metadata": {
        "id": "lIYdn1woOS1n"
      },
      "outputs": [],
      "source": []
    },
    {
      "cell_type": "markdown",
      "source": [
        "\n",
        "\n",
        "\n"
      ],
      "metadata": {
        "id": "nv_hife3lOSd"
      }
    },
    {
      "cell_type": "markdown",
      "source": [
        "**statistical project-**\n",
        "\n",
        "**1. Data Handling**\n",
        "\n",
        "**a. How would you handle missing values in a dataset? Describe at least two methods.**\n",
        "\n",
        "**1. Imputation:** Replace missing values with the mean, median, or mode of the corresponding column.\n",
        "\n",
        "Example: For numerical data, use the mean of the column; for categorical data, use the most frequent category.\n",
        "\n",
        "**2. Removing Rows/Columns**: If the missing data is minimal or the affected rows/columns are not critical, you can remove them.\n",
        "\n",
        "Example: If 5% of rows have missing values in a dataset of 10,000 rows, you can drop those rows.\n",
        "\n",
        " **b.Explain why might it be necessary to convert data types before performing an analysis?**\n",
        "\n",
        "**Standardization:** Some analyses require data to be in a numerical format (e.g., regression analysis).\n",
        "\n",
        "**Efficiency:** Converting data into the correct type (e.g., integers, floats) can improve computation speed.\n",
        "\n",
        "**Error Prevention:** Inconsistent data types can cause errors in calculations or model building.\n",
        "\n",
        "Example: Converting dates from strings to a date-time format for time-series analysis.\n",
        "\n"
      ],
      "metadata": {
        "id": "vDS5rPEJdnbV"
      }
    },
    {
      "cell_type": "markdown",
      "source": [
        "**2. Statistical Analysis**\n",
        "\n",
        "**a. What is a T-test, and in what scenarios would you use it? Provide an example based on sales data.**\n",
        "\n",
        "A T-test compares the means of two groups to determine if they are statistically different.\n",
        "\n",
        "Example: Comparing the average sales of Product A in two regions to see if location impacts sales.\n",
        "\n",
        "**b. Describe the Chi-square test for independence and explain when it should be used. How would you apply it to test the relationship between shipping mode and customer segment?**\n",
        "\n",
        "The Chi-square test checks if two categorical variables are independent.\n",
        "\n",
        "**Application:** Create a contingency table of shipping modes (e.g., \"Express\" vs. \"Standard\") and customer segments (e.g., \"Retail\" vs. \"Corporate\") and calculate the Chi-square statistic to determine if there's a significant relationship."
      ],
      "metadata": {
        "id": "owJ8kLvgwYYq"
      }
    },
    {
      "cell_type": "markdown",
      "source": [
        "**3. Univariate and Bivariate Analysis**\n",
        "\n",
        "**a. What is univariate analysis, and what are its key purposes?**\n",
        "\n",
        "Analyzing a single variable to understand its distribution and summary statistics (mean, median, etc.).\n",
        "\n",
        "**Purpose: **Identify patterns, outliers, and trends.\n",
        "\n",
        "**b. Explain the difference between univariate and bivariate analysis. Provide an example of each.**\n",
        "\n",
        "**Univariate: **Examines one variable (e.g., analyzing the distribution of sales revenue).\n",
        "\n",
        "**Bivariate:** Examines the relationship between two variables (e.g., sales revenue vs. marketing spend)."
      ],
      "metadata": {
        "id": "SxyNsgQ6xsN0"
      }
    },
    {
      "cell_type": "markdown",
      "source": [
        "**4. Data Visualization**\n",
        "\n",
        "**a. What are the benefits of using a correlation matrix in data analysis? How would you interpret the results?**\n",
        "\n",
        "**Benefits:** Identifies relationships between variables (positive, negative, or no correlation).\n",
        "\n",
        "**Interpretation:** A value close to +1/-1 indicates a strong relationship, while a value near 0 suggests no relationship.\n",
        "\n",
        "**b. How would you plot sales trends over time using a dataset? Describe the steps and tools you would use.**\n",
        "\n",
        "1. Organize the data by date.\n",
        "\n",
        "\n",
        "2. Aggregate sales for consistent intervals (e.g., weekly or monthly).\n",
        "\n",
        "\n",
        "3. Use a line chart to visualize the trends.\n",
        "\n",
        "**Tools:** Excel, Python (Matplotlib, Seaborn), or Tableau."
      ],
      "metadata": {
        "id": "H7E6n1qfzP5E"
      }
    },
    {
      "cell_type": "markdown",
      "source": [
        "**5. Sales and Profit Analysis**\n",
        "\n",
        "**a. How can you identify top-performing product categories based on total sales and profit? Describe the process.**\n",
        "\n",
        "1. Group data by product category.\n",
        "\n",
        "\n",
        "2. Calculate total sales and profit for each category.\n",
        "\n",
        "\n",
        "3. Sort categories in descending order of sales/profit.\n",
        "\n",
        "\n",
        "4. Identify top-performing categories (highest sales and profit).\n",
        "\n",
        "**b. Explain how you would analyze seasonal sales trends using historical sales data.**\n",
        "\n",
        "1. Group data by time period (e.g., month or quarter).\n",
        "\n",
        "\n",
        "2. Compare sales patterns over multiple years.\n",
        "\n",
        "\n",
        "3. Identify peaks and troughs for different seasons."
      ],
      "metadata": {
        "id": "wqm7BZ-M10VA"
      }
    },
    {
      "cell_type": "markdown",
      "source": [
        "**6. Grouped Statistics**\n",
        "\n",
        "**a. Why is it important to calculate grouped statistics for key variables? Provide an example using regional sales data.**\n",
        "\n",
        "**Importance:** Allows comparison across different groups and identifies patterns.\n",
        "\n",
        "Example: Comparing average sales per region to find high-performing areas and strategize accordingly."
      ],
      "metadata": {
        "id": "KeqPkX3F3PWP"
      }
    },
    {
      "cell_type": "code",
      "source": [
        "\n"
      ],
      "metadata": {
        "id": "H_CN9KXA3Edi"
      },
      "execution_count": null,
      "outputs": []
    }
  ],
  "metadata": {
    "colab": {
      "provenance": [],
      "include_colab_link": true
    },
    "kernelspec": {
      "display_name": "Python 3",
      "name": "python3"
    }
  },
  "nbformat": 4,
  "nbformat_minor": 0
}